{
 "cells": [
  {
   "cell_type": "code",
   "execution_count": 69,
   "id": "8793eaa9",
   "metadata": {},
   "outputs": [],
   "source": [
    "import pandas as pd\n",
    "import numpy as np\n",
    "import seaborn as sns\n",
    "import matplotlib.pyplot as plt\n",
    "from scipy import stats\n",
    "import statsmodels.api as  sm\n",
    "from sklearn.model_selection import train_test_split\n",
    "from sklearn.linear_model import LinearRegression as LS\n",
    "from sklearn.metrics import mean_squared_error\n",
    "from sklearn.linear_model import LinearRegression\n",
    "from sklearn.ensemble import GradientBoostingRegressor\n",
    "from sklearn.ensemble import RandomForestRegressor\n",
    "from sklearn.ensemble import AdaBoostRegressor\n",
    "from sklearn.tree import DecisionTreeRegressor"
   ]
  },
  {
   "cell_type": "code",
   "execution_count": 2,
   "id": "14717534",
   "metadata": {},
   "outputs": [],
   "source": [
    "rocket=pd.read_csv(\"C:/Users/LENOVO/Downloads/Flight  - Sheet1.csv\")"
   ]
  },
  {
   "cell_type": "code",
   "execution_count": 3,
   "id": "3e6b42d6",
   "metadata": {},
   "outputs": [
    {
     "data": {
      "text/html": [
       "<div>\n",
       "<style scoped>\n",
       "    .dataframe tbody tr th:only-of-type {\n",
       "        vertical-align: middle;\n",
       "    }\n",
       "\n",
       "    .dataframe tbody tr th {\n",
       "        vertical-align: top;\n",
       "    }\n",
       "\n",
       "    .dataframe thead th {\n",
       "        text-align: right;\n",
       "    }\n",
       "</style>\n",
       "<table border=\"1\" class=\"dataframe\">\n",
       "  <thead>\n",
       "    <tr style=\"text-align: right;\">\n",
       "      <th></th>\n",
       "      <th>Length</th>\n",
       "      <th>Breadth</th>\n",
       "      <th>Foldings</th>\n",
       "      <th>Distance</th>\n",
       "    </tr>\n",
       "  </thead>\n",
       "  <tbody>\n",
       "    <tr>\n",
       "      <th>count</th>\n",
       "      <td>71.000000</td>\n",
       "      <td>88.000000</td>\n",
       "      <td>88.000000</td>\n",
       "      <td>88.000000</td>\n",
       "    </tr>\n",
       "    <tr>\n",
       "      <th>mean</th>\n",
       "      <td>26.708451</td>\n",
       "      <td>18.500000</td>\n",
       "      <td>8.136364</td>\n",
       "      <td>6.090909</td>\n",
       "    </tr>\n",
       "    <tr>\n",
       "      <th>std</th>\n",
       "      <td>11.920268</td>\n",
       "      <td>1.339068</td>\n",
       "      <td>1.736570</td>\n",
       "      <td>1.974762</td>\n",
       "    </tr>\n",
       "    <tr>\n",
       "      <th>min</th>\n",
       "      <td>0.000000</td>\n",
       "      <td>16.000000</td>\n",
       "      <td>5.000000</td>\n",
       "      <td>1.000000</td>\n",
       "    </tr>\n",
       "    <tr>\n",
       "      <th>25%</th>\n",
       "      <td>22.500000</td>\n",
       "      <td>17.500000</td>\n",
       "      <td>8.000000</td>\n",
       "      <td>5.000000</td>\n",
       "    </tr>\n",
       "    <tr>\n",
       "      <th>50%</th>\n",
       "      <td>28.500000</td>\n",
       "      <td>18.500000</td>\n",
       "      <td>8.000000</td>\n",
       "      <td>6.000000</td>\n",
       "    </tr>\n",
       "    <tr>\n",
       "      <th>75%</th>\n",
       "      <td>29.500000</td>\n",
       "      <td>20.000000</td>\n",
       "      <td>10.000000</td>\n",
       "      <td>7.000000</td>\n",
       "    </tr>\n",
       "    <tr>\n",
       "      <th>max</th>\n",
       "      <td>98.000000</td>\n",
       "      <td>20.500000</td>\n",
       "      <td>10.000000</td>\n",
       "      <td>11.000000</td>\n",
       "    </tr>\n",
       "  </tbody>\n",
       "</table>\n",
       "</div>"
      ],
      "text/plain": [
       "          Length    Breadth   Foldings   Distance\n",
       "count  71.000000  88.000000  88.000000  88.000000\n",
       "mean   26.708451  18.500000   8.136364   6.090909\n",
       "std    11.920268   1.339068   1.736570   1.974762\n",
       "min     0.000000  16.000000   5.000000   1.000000\n",
       "25%    22.500000  17.500000   8.000000   5.000000\n",
       "50%    28.500000  18.500000   8.000000   6.000000\n",
       "75%    29.500000  20.000000  10.000000   7.000000\n",
       "max    98.000000  20.500000  10.000000  11.000000"
      ]
     },
     "execution_count": 3,
     "metadata": {},
     "output_type": "execute_result"
    }
   ],
   "source": [
    "rocket.head()\n",
    "rocket.describe()\n"
   ]
  },
  {
   "cell_type": "code",
   "execution_count": 4,
   "id": "32322d8b",
   "metadata": {},
   "outputs": [
    {
     "data": {
      "text/plain": [
       "(88, 10)"
      ]
     },
     "execution_count": 4,
     "metadata": {},
     "output_type": "execute_result"
    }
   ],
   "source": [
    " rocket.shape\n"
   ]
  },
  {
   "cell_type": "code",
   "execution_count": 5,
   "id": "5c1a54a3",
   "metadata": {},
   "outputs": [
    {
     "data": {
      "text/plain": [
       "Person              object\n",
       "Item_Identifier     object\n",
       "Length             float64\n",
       "Breadth            float64\n",
       "PaperQuality        object\n",
       "Angle               object\n",
       "Foldings             int64\n",
       "Windspeed           object\n",
       "Dominanthand        object\n",
       "Distance             int64\n",
       "dtype: object"
      ]
     },
     "execution_count": 5,
     "metadata": {},
     "output_type": "execute_result"
    }
   ],
   "source": [
    "rocket.dtypes\n"
   ]
  },
  {
   "cell_type": "code",
   "execution_count": 6,
   "id": "dccf5e69",
   "metadata": {},
   "outputs": [
    {
     "data": {
      "text/plain": [
       "Person              0\n",
       "Item_Identifier     0\n",
       "Length             17\n",
       "Breadth             0\n",
       "PaperQuality        8\n",
       "Angle               4\n",
       "Foldings            0\n",
       "Windspeed           0\n",
       "Dominanthand        0\n",
       "Distance            0\n",
       "dtype: int64"
      ]
     },
     "execution_count": 6,
     "metadata": {},
     "output_type": "execute_result"
    }
   ],
   "source": [
    "rocket.isnull().sum()\n"
   ]
  },
  {
   "cell_type": "code",
   "execution_count": 7,
   "id": "7110838f",
   "metadata": {},
   "outputs": [
    {
     "name": "stderr",
     "output_type": "stream",
     "text": [
      "C:\\Users\\LENOVO\\anaconda3\\lib\\site-packages\\seaborn\\_decorators.py:36: FutureWarning: Pass the following variable as a keyword arg: x. From version 0.12, the only valid positional argument will be `data`, and passing other arguments without an explicit keyword will result in an error or misinterpretation.\n",
      "  warnings.warn(\n"
     ]
    },
    {
     "data": {
      "text/plain": [
       "<AxesSubplot:xlabel='Person', ylabel='count'>"
      ]
     },
     "execution_count": 7,
     "metadata": {},
     "output_type": "execute_result"
    },
    {
     "data": {
      "image/png": "[encoded data removed]",
      "text/plain": [
       "<Figure size 432x288 with 1 Axes>"
      ]
     },
     "metadata": {
      "needs_background": "light"
     },
     "output_type": "display_data"
    }
   ],
   "source": [
    "\n",
    "sns.countplot(rocket.Person)\n"
   ]
  },
  {
   "cell_type": "code",
   "execution_count": 8,
   "id": "523b0d20",
   "metadata": {},
   "outputs": [
    {
     "data": {
      "text/plain": [
       "Priya      30\n",
       "Giri       22\n",
       "Kevin      18\n",
       "Shabana    18\n",
       "Name: Person, dtype: int64"
      ]
     },
     "execution_count": 8,
     "metadata": {},
     "output_type": "execute_result"
    }
   ],
   "source": [
    "rocket.Person.value_counts()\n"
   ]
  },
  {
   "cell_type": "code",
   "execution_count": 9,
   "id": "c3adb5cc",
   "metadata": {},
   "outputs": [
    {
     "data": {
      "text/plain": [
       "19.318181818181817"
      ]
     },
     "execution_count": 9,
     "metadata": {},
     "output_type": "execute_result"
    }
   ],
   "source": [
    "(rocket.Length.isnull().mean())*100\n"
   ]
  },
  {
   "cell_type": "code",
   "execution_count": 10,
   "id": "c14e7902",
   "metadata": {},
   "outputs": [],
   "source": [
    "rocket.Length.fillna(rocket.Length.mean(),inplace=True)\n"
   ]
  },
  {
   "cell_type": "code",
   "execution_count": 11,
   "id": "54512589",
   "metadata": {},
   "outputs": [
    {
     "data": {
      "text/plain": [
       "{'whiskers': [<matplotlib.lines.Line2D at 0x234632a7610>,\n",
       "  <matplotlib.lines.Line2D at 0x234632a78e0>],\n",
       " 'caps': [<matplotlib.lines.Line2D at 0x234632a7c70>,\n",
       "  <matplotlib.lines.Line2D at 0x234632b6040>],\n",
       " 'boxes': [<matplotlib.lines.Line2D at 0x234632a72e0>],\n",
       " 'medians': [<matplotlib.lines.Line2D at 0x234632b63d0>],\n",
       " 'fliers': [<matplotlib.lines.Line2D at 0x234632b6760>],\n",
       " 'means': []}"
      ]
     },
     "execution_count": 11,
     "metadata": {},
     "output_type": "execute_result"
    },
    {
     "data": {
      "image/png": "[encoded data removed]",
      "text/plain": [
       "<Figure size 432x288 with 1 Axes>"
      ]
     },
     "metadata": {
      "needs_background": "light"
     },
     "output_type": "display_data"
    }
   ],
   "source": [
    "plt.boxplot(rocket.Length)\n"
   ]
  },
  {
   "cell_type": "code",
   "execution_count": 12,
   "id": "4154800a",
   "metadata": {},
   "outputs": [
    {
     "data": {
      "text/plain": [
       "0"
      ]
     },
     "execution_count": 12,
     "metadata": {},
     "output_type": "execute_result"
    }
   ],
   "source": [
    "rocket.Breadth.isnull().sum()\n"
   ]
  },
  {
   "cell_type": "code",
   "execution_count": 13,
   "id": "506c5f01",
   "metadata": {},
   "outputs": [
    {
     "data": {
      "text/plain": [
       "{'whiskers': [<matplotlib.lines.Line2D at 0x23467973a30>,\n",
       "  <matplotlib.lines.Line2D at 0x23467973dc0>],\n",
       " 'caps': [<matplotlib.lines.Line2D at 0x23467981190>,\n",
       "  <matplotlib.lines.Line2D at 0x23467981520>],\n",
       " 'boxes': [<matplotlib.lines.Line2D at 0x234679736a0>],\n",
       " 'medians': [<matplotlib.lines.Line2D at 0x234679818b0>],\n",
       " 'fliers': [<matplotlib.lines.Line2D at 0x23467981c40>],\n",
       " 'means': []}"
      ]
     },
     "execution_count": 13,
     "metadata": {},
     "output_type": "execute_result"
    },
    {
     "data": {
      "image/png": "[encoded data removed]",
      "text/plain": [
       "<Figure size 432x288 with 1 Axes>"
      ]
     },
     "metadata": {
      "needs_background": "light"
     },
     "output_type": "display_data"
    }
   ],
   "source": [
    "plt.boxplot(rocket.Breadth)\n"
   ]
  },
  {
   "cell_type": "code",
   "execution_count": 14,
   "id": "06e383f1",
   "metadata": {},
   "outputs": [
    {
     "name": "stderr",
     "output_type": "stream",
     "text": [
      "C:\\Users\\LENOVO\\anaconda3\\lib\\site-packages\\seaborn\\_decorators.py:36: FutureWarning: Pass the following variable as a keyword arg: x. From version 0.12, the only valid positional argument will be `data`, and passing other arguments without an explicit keyword will result in an error or misinterpretation.\n",
      "  warnings.warn(\n"
     ]
    },
    {
     "data": {
      "text/plain": [
       "<AxesSubplot:xlabel='Breadth', ylabel='count'>"
      ]
     },
     "execution_count": 14,
     "metadata": {},
     "output_type": "execute_result"
    },
    {
     "data": {
      "image/png": "[encoded data removed]",
      "text/plain": [
       "<Figure size 432x288 with 1 Axes>"
      ]
     },
     "metadata": {
      "needs_background": "light"
     },
     "output_type": "display_data"
    }
   ],
   "source": [
    "sns.countplot(rocket.Breadth)\n"
   ]
  },
  {
   "cell_type": "code",
   "execution_count": 15,
   "id": "9abf662f",
   "metadata": {},
   "outputs": [
    {
     "data": {
      "text/plain": [
       "8"
      ]
     },
     "execution_count": 15,
     "metadata": {},
     "output_type": "execute_result"
    }
   ],
   "source": [
    "rocket.PaperQuality.isnull().sum()\n"
   ]
  },
  {
   "cell_type": "code",
   "execution_count": 16,
   "id": "6e6d81f7",
   "metadata": {},
   "outputs": [],
   "source": [
    "rocket.PaperQuality.fillna(\"Others\",inplace=True)\n"
   ]
  },
  {
   "cell_type": "code",
   "execution_count": 17,
   "id": "d89889c4",
   "metadata": {},
   "outputs": [
    {
     "data": {
      "text/plain": [
       "B         47\n",
       "A         33\n",
       "Others     8\n",
       "Name: PaperQuality, dtype: int64"
      ]
     },
     "execution_count": 17,
     "metadata": {},
     "output_type": "execute_result"
    }
   ],
   "source": [
    "rocket.PaperQuality.value_counts()\n"
   ]
  },
  {
   "cell_type": "code",
   "execution_count": 18,
   "id": "be961f71",
   "metadata": {},
   "outputs": [],
   "source": [
    "rocket.PaperQuality.fillna(\"Others\",inplace=True)\n"
   ]
  },
  {
   "cell_type": "code",
   "execution_count": 19,
   "id": "644fcc98",
   "metadata": {},
   "outputs": [
    {
     "data": {
      "text/plain": [
       "B         47\n",
       "A         33\n",
       "Others     8\n",
       "Name: PaperQuality, dtype: int64"
      ]
     },
     "execution_count": 19,
     "metadata": {},
     "output_type": "execute_result"
    }
   ],
   "source": [
    "rocket.PaperQuality.value_counts()\n"
   ]
  },
  {
   "cell_type": "code",
   "execution_count": 20,
   "id": "1813776f",
   "metadata": {},
   "outputs": [
    {
     "data": {
      "text/plain": [
       "4"
      ]
     },
     "execution_count": 20,
     "metadata": {},
     "output_type": "execute_result"
    }
   ],
   "source": [
    "rocket.Angle.isnull().sum()"
   ]
  },
  {
   "cell_type": "code",
   "execution_count": 21,
   "id": "940f15b3",
   "metadata": {},
   "outputs": [
    {
     "data": {
      "text/plain": [
       "U    62\n",
       "L    22\n",
       "Name: Angle, dtype: int64"
      ]
     },
     "execution_count": 21,
     "metadata": {},
     "output_type": "execute_result"
    }
   ],
   "source": [
    "rocket.Angle.value_counts()\n"
   ]
  },
  {
   "cell_type": "code",
   "execution_count": 22,
   "id": "630bc56d",
   "metadata": {},
   "outputs": [
    {
     "name": "stderr",
     "output_type": "stream",
     "text": [
      "C:\\Users\\LENOVO\\anaconda3\\lib\\site-packages\\seaborn\\_decorators.py:36: FutureWarning: Pass the following variable as a keyword arg: x. From version 0.12, the only valid positional argument will be `data`, and passing other arguments without an explicit keyword will result in an error or misinterpretation.\n",
      "  warnings.warn(\n"
     ]
    },
    {
     "data": {
      "text/plain": [
       "<AxesSubplot:xlabel='Angle', ylabel='count'>"
      ]
     },
     "execution_count": 22,
     "metadata": {},
     "output_type": "execute_result"
    },
    {
     "data": {
      "image/png": "[encoded data removed]",
      "text/plain": [
       "<Figure size 432x288 with 1 Axes>"
      ]
     },
     "metadata": {
      "needs_background": "light"
     },
     "output_type": "display_data"
    }
   ],
   "source": [
    " sns.countplot(rocket.Angle)\n"
   ]
  },
  {
   "cell_type": "code",
   "execution_count": 23,
   "id": "c236ebbb",
   "metadata": {},
   "outputs": [
    {
     "data": {
      "text/plain": [
       "0"
      ]
     },
     "execution_count": 23,
     "metadata": {},
     "output_type": "execute_result"
    }
   ],
   "source": [
    "rocket.Foldings.isnull().sum()\n"
   ]
  },
  {
   "cell_type": "code",
   "execution_count": 24,
   "id": "c54b53ec",
   "metadata": {},
   "outputs": [
    {
     "data": {
      "text/plain": [
       "8     42\n",
       "10    30\n",
       "5     16\n",
       "Name: Foldings, dtype: int64"
      ]
     },
     "execution_count": 24,
     "metadata": {},
     "output_type": "execute_result"
    }
   ],
   "source": [
    "rocket.Foldings.value_counts()\n"
   ]
  },
  {
   "cell_type": "code",
   "execution_count": 25,
   "id": "8a67fc89",
   "metadata": {},
   "outputs": [],
   "source": [
    "rocket.Foldings.replace([5,8,10],['five','eight','ten'],inplace=True)\n"
   ]
  },
  {
   "cell_type": "code",
   "execution_count": 26,
   "id": "212db4a7",
   "metadata": {},
   "outputs": [
    {
     "name": "stderr",
     "output_type": "stream",
     "text": [
      "C:\\Users\\LENOVO\\anaconda3\\lib\\site-packages\\seaborn\\_decorators.py:36: FutureWarning: Pass the following variable as a keyword arg: x. From version 0.12, the only valid positional argument will be `data`, and passing other arguments without an explicit keyword will result in an error or misinterpretation.\n",
      "  warnings.warn(\n"
     ]
    },
    {
     "data": {
      "text/plain": [
       "<AxesSubplot:xlabel='Foldings', ylabel='count'>"
      ]
     },
     "execution_count": 26,
     "metadata": {},
     "output_type": "execute_result"
    },
    {
     "data": {
      "image/png": "[encoded data removed]",
      "text/plain": [
       "<Figure size 432x288 with 1 Axes>"
      ]
     },
     "metadata": {
      "needs_background": "light"
     },
     "output_type": "display_data"
    }
   ],
   "source": [
    "sns.countplot(rocket.Foldings)\n"
   ]
  },
  {
   "cell_type": "code",
   "execution_count": 27,
   "id": "7dcd5f6f",
   "metadata": {},
   "outputs": [
    {
     "data": {
      "text/plain": [
       "0"
      ]
     },
     "execution_count": 27,
     "metadata": {},
     "output_type": "execute_result"
    }
   ],
   "source": [
    "rocket.Dominanthand.isnull().sum()\n",
    " "
   ]
  },
  {
   "cell_type": "code",
   "execution_count": 28,
   "id": "7c52b4e0",
   "metadata": {},
   "outputs": [
    {
     "name": "stderr",
     "output_type": "stream",
     "text": [
      "C:\\Users\\LENOVO\\anaconda3\\lib\\site-packages\\seaborn\\_decorators.py:36: FutureWarning: Pass the following variable as a keyword arg: x. From version 0.12, the only valid positional argument will be `data`, and passing other arguments without an explicit keyword will result in an error or misinterpretation.\n",
      "  warnings.warn(\n"
     ]
    },
    {
     "data": {
      "text/plain": [
       "<AxesSubplot:xlabel='Dominanthand', ylabel='count'>"
      ]
     },
     "execution_count": 28,
     "metadata": {},
     "output_type": "execute_result"
    },
    {
     "data": {
      "image/png": "[encoded data removed]",
      "text/plain": [
       "<Figure size 432x288 with 1 Axes>"
      ]
     },
     "metadata": {
      "needs_background": "light"
     },
     "output_type": "display_data"
    }
   ],
   "source": [
    "sns.countplot(rocket.Dominanthand)\n"
   ]
  },
  {
   "cell_type": "code",
   "execution_count": 29,
   "id": "e80c1ceb",
   "metadata": {},
   "outputs": [
    {
     "data": {
      "text/plain": [
       "0"
      ]
     },
     "execution_count": 29,
     "metadata": {},
     "output_type": "execute_result"
    }
   ],
   "source": [
    "rocket.Distance.isnull().sum()\n"
   ]
  },
  {
   "cell_type": "code",
   "execution_count": 30,
   "id": "0dfae300",
   "metadata": {},
   "outputs": [
    {
     "data": {
      "text/plain": [
       "{'whiskers': [<matplotlib.lines.Line2D at 0x23468b596d0>,\n",
       "  <matplotlib.lines.Line2D at 0x23468b59a60>],\n",
       " 'caps': [<matplotlib.lines.Line2D at 0x23468b59df0>,\n",
       "  <matplotlib.lines.Line2D at 0x23468b681c0>],\n",
       " 'boxes': [<matplotlib.lines.Line2D at 0x23468b59340>],\n",
       " 'medians': [<matplotlib.lines.Line2D at 0x23468b68550>],\n",
       " 'fliers': [<matplotlib.lines.Line2D at 0x23468b688e0>],\n",
       " 'means': []}"
      ]
     },
     "execution_count": 30,
     "metadata": {},
     "output_type": "execute_result"
    },
    {
     "data": {
      "image/png": "[encoded data removed]",
      "text/plain": [
       "<Figure size 432x288 with 1 Axes>"
      ]
     },
     "metadata": {
      "needs_background": "light"
     },
     "output_type": "display_data"
    }
   ],
   "source": [
    "plt.boxplot(rocket.Distance)\n"
   ]
  },
  {
   "cell_type": "code",
   "execution_count": 31,
   "id": "64a17a18",
   "metadata": {},
   "outputs": [
    {
     "name": "stderr",
     "output_type": "stream",
     "text": [
      "C:\\Users\\LENOVO\\anaconda3\\lib\\site-packages\\seaborn\\_decorators.py:36: FutureWarning: Pass the following variable as a keyword arg: x. From version 0.12, the only valid positional argument will be `data`, and passing other arguments without an explicit keyword will result in an error or misinterpretation.\n",
      "  warnings.warn(\n"
     ]
    },
    {
     "data": {
      "text/plain": [
       "<AxesSubplot:xlabel='Distance', ylabel='count'>"
      ]
     },
     "execution_count": 31,
     "metadata": {},
     "output_type": "execute_result"
    },
    {
     "data": {
      "image/png": "[encoded data removed]",
      "text/plain": [
       "<Figure size 432x288 with 1 Axes>"
      ]
     },
     "metadata": {
      "needs_background": "light"
     },
     "output_type": "display_data"
    }
   ],
   "source": [
    "sns.countplot(rocket.Distance)\n"
   ]
  },
  {
   "cell_type": "code",
   "execution_count": 32,
   "id": "85d2e4f5",
   "metadata": {},
   "outputs": [],
   "source": [
    "from scipy import stats \n",
    "import statsmodels.api as sm\n"
   ]
  },
  {
   "cell_type": "code",
   "execution_count": 33,
   "id": "a2f6703b",
   "metadata": {},
   "outputs": [
    {
     "name": "stderr",
     "output_type": "stream",
     "text": [
      "C:\\Users\\LENOVO\\anaconda3\\lib\\site-packages\\scipy\\stats\\stats.py:3621: F_onewayBadInputSizesWarning: at least one input has length 0\n",
      "  warnings.warn(F_onewayBadInputSizesWarning('at least one input '\n"
     ]
    },
    {
     "data": {
      "text/plain": [
       "F_onewayResult(statistic=nan, pvalue=nan)"
      ]
     },
     "execution_count": 33,
     "metadata": {},
     "output_type": "execute_result"
    }
   ],
   "source": [
    "per1=rocket.Distance[rocket.Person==\"Priya\"]\n",
    "per2=rocket.Distance[rocket.Person==\"Girl\"]\n",
    "per3=rocket.Distance[rocket.Person==\"Kevin\"]\n",
    "per4=rocket.Distance[rocket.Person==\"shabana\"]\n",
    "stats.f_oneway(per1,per2,per3,per4)\n"
   ]
  },
  {
   "cell_type": "code",
   "execution_count": 34,
   "id": "59b2d411",
   "metadata": {},
   "outputs": [
    {
     "data": {
      "text/plain": [
       "F_onewayResult(statistic=nan, pvalue=nan)"
      ]
     },
     "execution_count": 34,
     "metadata": {},
     "output_type": "execute_result"
    }
   ],
   "source": [
    "\n",
    "per1=rocket.Distance[rocket.PaperQuality==\"A\"]\n",
    "per2=rocket.Distance[rocket.PaperQuality==\"B\"]\n",
    "per3=rocket.Distance[rocket.PaperQuality==\"others\"]\n",
    "stats.f_oneway(per1,per2,per3)"
   ]
  },
  {
   "cell_type": "code",
   "execution_count": 35,
   "id": "a223b671",
   "metadata": {},
   "outputs": [
    {
     "data": {
      "text/plain": [
       "F_onewayResult(statistic=0.039320755437030244, pvalue=0.8433053540143658)"
      ]
     },
     "execution_count": 35,
     "metadata": {},
     "output_type": "execute_result"
    }
   ],
   "source": [
    "\n",
    "per1=rocket.Distance[rocket.Angle==\"U\"]\n",
    "per2=rocket.Distance[rocket.Angle==\"L\"]\n",
    "stats.f_oneway(per1,per2)\n"
   ]
  },
  {
   "cell_type": "code",
   "execution_count": 36,
   "id": "f16735d8",
   "metadata": {},
   "outputs": [
    {
     "data": {
      "text/plain": [
       "F_onewayResult(statistic=0.5123419286713021, pvalue=0.47606580733526194)"
      ]
     },
     "execution_count": 36,
     "metadata": {},
     "output_type": "execute_result"
    }
   ],
   "source": [
    "per1=rocket.Distance[rocket.Dominanthand==\"R\"]\n",
    "per2=rocket.Distance[rocket.Dominanthand==\"L\"]\n",
    "stats.f_oneway(per1,per2)\n"
   ]
  },
  {
   "cell_type": "code",
   "execution_count": 37,
   "id": "6eb00ad8",
   "metadata": {},
   "outputs": [],
   "source": [
    "from sklearn.preprocessing import MinMaxScaler\n",
    "from sklearn.model_selection import train_test_split\n",
    "from sklearn.linear_model import LogisticRegression as LR\n",
    "from sklearn.tree import DecisionTreeClassifier\n",
    "from sklearn.linear_model import LinearRegression as LS\n"
   ]
  },
  {
   "cell_type": "code",
   "execution_count": 38,
   "id": "80570391",
   "metadata": {},
   "outputs": [
    {
     "name": "stdout",
     "output_type": "stream",
     "text": [
      "(0.04169302061327826, 0.6997257388750459)\n"
     ]
    }
   ],
   "source": [
    "strength=stats.pearsonr(rocket.Length,rocket.Distance)\n",
    "print(strength)\n"
   ]
  },
  {
   "cell_type": "code",
   "execution_count": 39,
   "id": "0a928804",
   "metadata": {},
   "outputs": [
    {
     "name": "stdout",
     "output_type": "stream",
     "text": [
      "(-0.1130151260715652, 0.29446338462214466)\n"
     ]
    }
   ],
   "source": [
    "strength=stats.pearsonr(rocket.Breadth,rocket.Distance)\n",
    "print(strength)\n"
   ]
  },
  {
   "cell_type": "code",
   "execution_count": 40,
   "id": "a5937c7f",
   "metadata": {},
   "outputs": [],
   "source": [
    " rocket.drop('Item_Identifier',axis=1,inplace=True)\n"
   ]
  },
  {
   "cell_type": "code",
   "execution_count": 41,
   "id": "93ab6198",
   "metadata": {},
   "outputs": [
    {
     "data": {
      "text/plain": [
       "Index(['Person', 'Length', 'Breadth', 'PaperQuality', 'Angle', 'Foldings',\n",
       "       'Windspeed ', 'Dominanthand', 'Distance'],\n",
       "      dtype='object')"
      ]
     },
     "execution_count": 41,
     "metadata": {},
     "output_type": "execute_result"
    }
   ],
   "source": [
    "rocket.columns\n"
   ]
  },
  {
   "cell_type": "code",
   "execution_count": 42,
   "id": "f319f922",
   "metadata": {},
   "outputs": [],
   "source": [
    "dummy_var=pd.get_dummies(rocket)\n"
   ]
  },
  {
   "cell_type": "code",
   "execution_count": 43,
   "id": "7240dd0a",
   "metadata": {},
   "outputs": [
    {
     "data": {
      "text/plain": [
       "Index(['Length', 'Breadth', 'Distance', 'Person_Giri', 'Person_Kevin',\n",
       "       'Person_Priya', 'Person_Shabana', 'PaperQuality_A', 'PaperQuality_B',\n",
       "       'PaperQuality_Others', 'Angle_L', 'Angle_U', 'Foldings_eight',\n",
       "       'Foldings_five', 'Foldings_ten', 'Windspeed _Off', 'Windspeed _On',\n",
       "       'Dominanthand_L', 'Dominanthand_R'],\n",
       "      dtype='object')"
      ]
     },
     "execution_count": 43,
     "metadata": {},
     "output_type": "execute_result"
    }
   ],
   "source": [
    "dummy_var.columns\n",
    "   "
   ]
  },
  {
   "cell_type": "code",
   "execution_count": 44,
   "id": "600204c0",
   "metadata": {},
   "outputs": [],
   "source": [
    "scaler=MinMaxScaler()"
   ]
  },
  {
   "cell_type": "code",
   "execution_count": 45,
   "id": "c2e7593e",
   "metadata": {},
   "outputs": [],
   "source": [
    " scaler_data=scaler.fit(dummy_var)\n"
   ]
  },
  {
   "cell_type": "code",
   "execution_count": 46,
   "id": "0e77f8ec",
   "metadata": {},
   "outputs": [],
   "source": [
    "scaler_data=scaler.transform(dummy_var)\n"
   ]
  },
  {
   "cell_type": "code",
   "execution_count": 47,
   "id": "76e44d8b",
   "metadata": {},
   "outputs": [],
   "source": [
    " scaler_data=pd.DataFrame(scaler_data)\n"
   ]
  },
  {
   "cell_type": "code",
   "execution_count": 48,
   "id": "5a912e0f",
   "metadata": {},
   "outputs": [
    {
     "data": {
      "text/html": [
       "<div>\n",
       "<style scoped>\n",
       "    .dataframe tbody tr th:only-of-type {\n",
       "        vertical-align: middle;\n",
       "    }\n",
       "\n",
       "    .dataframe tbody tr th {\n",
       "        vertical-align: top;\n",
       "    }\n",
       "\n",
       "    .dataframe thead th {\n",
       "        text-align: right;\n",
       "    }\n",
       "</style>\n",
       "<table border=\"1\" class=\"dataframe\">\n",
       "  <thead>\n",
       "    <tr style=\"text-align: right;\">\n",
       "      <th></th>\n",
       "      <th>0</th>\n",
       "      <th>1</th>\n",
       "      <th>2</th>\n",
       "      <th>3</th>\n",
       "      <th>4</th>\n",
       "      <th>5</th>\n",
       "      <th>6</th>\n",
       "      <th>7</th>\n",
       "      <th>8</th>\n",
       "      <th>9</th>\n",
       "      <th>10</th>\n",
       "      <th>11</th>\n",
       "      <th>12</th>\n",
       "      <th>13</th>\n",
       "      <th>14</th>\n",
       "      <th>15</th>\n",
       "      <th>16</th>\n",
       "      <th>17</th>\n",
       "      <th>18</th>\n",
       "    </tr>\n",
       "  </thead>\n",
       "  <tbody>\n",
       "    <tr>\n",
       "      <th>0</th>\n",
       "      <td>0.295918</td>\n",
       "      <td>0.888889</td>\n",
       "      <td>0.4</td>\n",
       "      <td>0.0</td>\n",
       "      <td>1.0</td>\n",
       "      <td>0.0</td>\n",
       "      <td>0.0</td>\n",
       "      <td>1.0</td>\n",
       "      <td>0.0</td>\n",
       "      <td>0.0</td>\n",
       "      <td>0.0</td>\n",
       "      <td>1.0</td>\n",
       "      <td>1.0</td>\n",
       "      <td>0.0</td>\n",
       "      <td>0.0</td>\n",
       "      <td>0.0</td>\n",
       "      <td>1.0</td>\n",
       "      <td>1.0</td>\n",
       "      <td>0.0</td>\n",
       "    </tr>\n",
       "    <tr>\n",
       "      <th>1</th>\n",
       "      <td>0.234694</td>\n",
       "      <td>0.000000</td>\n",
       "      <td>0.4</td>\n",
       "      <td>0.0</td>\n",
       "      <td>1.0</td>\n",
       "      <td>0.0</td>\n",
       "      <td>0.0</td>\n",
       "      <td>0.0</td>\n",
       "      <td>1.0</td>\n",
       "      <td>0.0</td>\n",
       "      <td>0.0</td>\n",
       "      <td>1.0</td>\n",
       "      <td>1.0</td>\n",
       "      <td>0.0</td>\n",
       "      <td>0.0</td>\n",
       "      <td>0.0</td>\n",
       "      <td>1.0</td>\n",
       "      <td>1.0</td>\n",
       "      <td>0.0</td>\n",
       "    </tr>\n",
       "    <tr>\n",
       "      <th>2</th>\n",
       "      <td>0.272535</td>\n",
       "      <td>0.444444</td>\n",
       "      <td>0.5</td>\n",
       "      <td>0.0</td>\n",
       "      <td>1.0</td>\n",
       "      <td>0.0</td>\n",
       "      <td>0.0</td>\n",
       "      <td>1.0</td>\n",
       "      <td>0.0</td>\n",
       "      <td>0.0</td>\n",
       "      <td>1.0</td>\n",
       "      <td>0.0</td>\n",
       "      <td>0.0</td>\n",
       "      <td>0.0</td>\n",
       "      <td>1.0</td>\n",
       "      <td>0.0</td>\n",
       "      <td>1.0</td>\n",
       "      <td>0.0</td>\n",
       "      <td>1.0</td>\n",
       "    </tr>\n",
       "    <tr>\n",
       "      <th>3</th>\n",
       "      <td>0.275510</td>\n",
       "      <td>0.888889</td>\n",
       "      <td>0.3</td>\n",
       "      <td>0.0</td>\n",
       "      <td>0.0</td>\n",
       "      <td>1.0</td>\n",
       "      <td>0.0</td>\n",
       "      <td>1.0</td>\n",
       "      <td>0.0</td>\n",
       "      <td>0.0</td>\n",
       "      <td>0.0</td>\n",
       "      <td>1.0</td>\n",
       "      <td>0.0</td>\n",
       "      <td>0.0</td>\n",
       "      <td>1.0</td>\n",
       "      <td>0.0</td>\n",
       "      <td>1.0</td>\n",
       "      <td>0.0</td>\n",
       "      <td>1.0</td>\n",
       "    </tr>\n",
       "    <tr>\n",
       "      <th>4</th>\n",
       "      <td>0.301020</td>\n",
       "      <td>0.333333</td>\n",
       "      <td>0.7</td>\n",
       "      <td>0.0</td>\n",
       "      <td>0.0</td>\n",
       "      <td>1.0</td>\n",
       "      <td>0.0</td>\n",
       "      <td>0.0</td>\n",
       "      <td>1.0</td>\n",
       "      <td>0.0</td>\n",
       "      <td>0.0</td>\n",
       "      <td>1.0</td>\n",
       "      <td>0.0</td>\n",
       "      <td>1.0</td>\n",
       "      <td>0.0</td>\n",
       "      <td>1.0</td>\n",
       "      <td>0.0</td>\n",
       "      <td>0.0</td>\n",
       "      <td>1.0</td>\n",
       "    </tr>\n",
       "  </tbody>\n",
       "</table>\n",
       "</div>"
      ],
      "text/plain": [
       "         0         1    2    3    4    5    6    7    8    9    10   11   12  \\\n",
       "0  0.295918  0.888889  0.4  0.0  1.0  0.0  0.0  1.0  0.0  0.0  0.0  1.0  1.0   \n",
       "1  0.234694  0.000000  0.4  0.0  1.0  0.0  0.0  0.0  1.0  0.0  0.0  1.0  1.0   \n",
       "2  0.272535  0.444444  0.5  0.0  1.0  0.0  0.0  1.0  0.0  0.0  1.0  0.0  0.0   \n",
       "3  0.275510  0.888889  0.3  0.0  0.0  1.0  0.0  1.0  0.0  0.0  0.0  1.0  0.0   \n",
       "4  0.301020  0.333333  0.7  0.0  0.0  1.0  0.0  0.0  1.0  0.0  0.0  1.0  0.0   \n",
       "\n",
       "    13   14   15   16   17   18  \n",
       "0  0.0  0.0  0.0  1.0  1.0  0.0  \n",
       "1  0.0  0.0  0.0  1.0  1.0  0.0  \n",
       "2  0.0  1.0  0.0  1.0  0.0  1.0  \n",
       "3  0.0  1.0  0.0  1.0  0.0  1.0  \n",
       "4  1.0  0.0  1.0  0.0  0.0  1.0  "
      ]
     },
     "execution_count": 48,
     "metadata": {},
     "output_type": "execute_result"
    }
   ],
   "source": [
    " scaler_data.head()\n"
   ]
  },
  {
   "cell_type": "code",
   "execution_count": 49,
   "id": "badbeb13",
   "metadata": {},
   "outputs": [],
   "source": [
    " y=dummy_var.Distance\n"
   ]
  },
  {
   "cell_type": "code",
   "execution_count": 50,
   "id": "f684ddb9",
   "metadata": {},
   "outputs": [],
   "source": [
    " x=dummy_var.drop('Distance',axis=1)\n"
   ]
  },
  {
   "cell_type": "code",
   "execution_count": 51,
   "id": "0f179712",
   "metadata": {},
   "outputs": [],
   "source": [
    "train_x,test_x,train_y,test_y=train_test_split(x,y,test_size=0.2,random_state=100)\n"
   ]
  },
  {
   "cell_type": "markdown",
   "id": "57955e73",
   "metadata": {},
   "source": [
    "<h1>Logistic regression<h2>\n"
   ]
  },
  {
   "cell_type": "code",
   "execution_count": 52,
   "id": "5c8a8bdf",
   "metadata": {},
   "outputs": [
    {
     "name": "stderr",
     "output_type": "stream",
     "text": [
      "C:\\Users\\LENOVO\\anaconda3\\lib\\site-packages\\sklearn\\linear_model\\_logistic.py:763: ConvergenceWarning: lbfgs failed to converge (status=1):\n",
      "STOP: TOTAL NO. of ITERATIONS REACHED LIMIT.\n",
      "\n",
      "Increase the number of iterations (max_iter) or scale the data as shown in:\n",
      "    https://scikit-learn.org/stable/modules/preprocessing.html\n",
      "Please also refer to the documentation for alternative solver options:\n",
      "    https://scikit-learn.org/stable/modules/linear_model.html#logistic-regression\n",
      "  n_iter_i = _check_optimize_result(\n"
     ]
    }
   ],
   "source": [
    " model=LR(random_state=0).fit(train_x,train_y)\n"
   ]
  },
  {
   "cell_type": "code",
   "execution_count": 53,
   "id": "61ce6613",
   "metadata": {},
   "outputs": [],
   "source": [
    "predicted_y=model.predict(test_x)\n"
   ]
  },
  {
   "cell_type": "code",
   "execution_count": 54,
   "id": "ac69eaac",
   "metadata": {},
   "outputs": [
    {
     "data": {
      "text/plain": [
       "0.16666666666666666"
      ]
     },
     "execution_count": 54,
     "metadata": {},
     "output_type": "execute_result"
    }
   ],
   "source": [
    "probability_y=model.predict_proba(test_x)\n",
    "model.score(test_x,test_y)\n"
   ]
  },
  {
   "cell_type": "markdown",
   "id": "5133bf44",
   "metadata": {},
   "source": [
    " <h1>Decision tree<h1>\n"
   ]
  },
  {
   "cell_type": "code",
   "execution_count": 55,
   "id": "eb63c890",
   "metadata": {},
   "outputs": [
    {
     "data": {
      "text/plain": [
       "0.16666666666666666"
      ]
     },
     "execution_count": 55,
     "metadata": {},
     "output_type": "execute_result"
    }
   ],
   "source": [
    "model_tree=DecisionTreeClassifier().fit(train_x,train_y)  \n",
    "model_tree.score(test_x,test_y)\n"
   ]
  },
  {
   "cell_type": "code",
   "execution_count": 57,
   "id": "af0b2e6b",
   "metadata": {},
   "outputs": [],
   "source": [
    " model1=LS().fit(train_x,train_y)\n"
   ]
  },
  {
   "cell_type": "code",
   "execution_count": 58,
   "id": "bb0ed2e4",
   "metadata": {},
   "outputs": [
    {
     "data": {
      "text/plain": [
       "0.17588909313180134"
      ]
     },
     "execution_count": 58,
     "metadata": {},
     "output_type": "execute_result"
    }
   ],
   "source": [
    "model1.score(train_x,train_y)\n"
   ]
  },
  {
   "cell_type": "code",
   "execution_count": 59,
   "id": "415b5d87",
   "metadata": {},
   "outputs": [
    {
     "data": {
      "text/plain": [
       "0.11481098490874164"
      ]
     },
     "execution_count": 59,
     "metadata": {},
     "output_type": "execute_result"
    }
   ],
   "source": [
    "model1.score(x,y)\n"
   ]
  },
  {
   "cell_type": "markdown",
   "id": "35b82366",
   "metadata": {},
   "source": [
    "<h1> Random forest bagging algorithm <h1>\n"
   ]
  },
  {
   "cell_type": "code",
   "execution_count": 60,
   "id": "313c224b",
   "metadata": {},
   "outputs": [
    {
     "data": {
      "text/plain": [
       "RandomForestRegressor(n_estimators=10, random_state=0)"
      ]
     },
     "execution_count": 60,
     "metadata": {},
     "output_type": "execute_result"
    }
   ],
   "source": [
    "from sklearn.ensemble import RandomForestRegressor\n",
    "regressor = RandomForestRegressor(n_estimators=10,random_state=0)\n",
    "regressor.fit(train_x,train_y)\n"
   ]
  },
  {
   "cell_type": "code",
   "execution_count": 61,
   "id": "102933ad",
   "metadata": {},
   "outputs": [],
   "source": [
    " y_pred=regressor.predict(test_x)\n"
   ]
  },
  {
   "cell_type": "code",
   "execution_count": 62,
   "id": "726e1aae",
   "metadata": {},
   "outputs": [
    {
     "data": {
      "text/plain": [
       "0.2782927095878428"
      ]
     },
     "execution_count": 62,
     "metadata": {},
     "output_type": "execute_result"
    }
   ],
   "source": [
    "regressor.score(train_x,train_y)\n"
   ]
  },
  {
   "cell_type": "code",
   "execution_count": 63,
   "id": "648f6c76",
   "metadata": {},
   "outputs": [
    {
     "data": {
      "text/plain": [
       "-0.6196762959866224"
      ]
     },
     "execution_count": 63,
     "metadata": {},
     "output_type": "execute_result"
    }
   ],
   "source": [
    "regressor.score(test_x,test_y)\n"
   ]
  },
  {
   "cell_type": "markdown",
   "id": "0c446f91",
   "metadata": {},
   "source": [
    "<h1>Gradient Boosting<h1>"
   ]
  },
  {
   "cell_type": "code",
   "execution_count": 64,
   "id": "a9b16387",
   "metadata": {},
   "outputs": [
    {
     "data": {
      "text/plain": [
       "GradientBoostingRegressor(random_state=0)"
      ]
     },
     "execution_count": 64,
     "metadata": {},
     "output_type": "execute_result"
    }
   ],
   "source": [
    "from sklearn.ensemble import GradientBoostingRegressor\n",
    "regres = GradientBoostingRegressor(n_estimators=100,random_state=0)\n",
    "regres.fit(train_x,train_y)\n"
   ]
  },
  {
   "cell_type": "code",
   "execution_count": 65,
   "id": "b6651db3",
   "metadata": {},
   "outputs": [],
   "source": [
    "y_pred=regres.predict(test_x)\n"
   ]
  },
  {
   "cell_type": "code",
   "execution_count": 66,
   "id": "0dc47277",
   "metadata": {},
   "outputs": [
    {
     "data": {
      "text/plain": [
       "0.35378613131545444"
      ]
     },
     "execution_count": 66,
     "metadata": {},
     "output_type": "execute_result"
    }
   ],
   "source": [
    "regres.score(train_x,train_y)\n"
   ]
  },
  {
   "cell_type": "code",
   "execution_count": 67,
   "id": "fd94cbbc",
   "metadata": {},
   "outputs": [
    {
     "data": {
      "text/plain": [
       "-0.8410540647884794"
      ]
     },
     "execution_count": 67,
     "metadata": {},
     "output_type": "execute_result"
    }
   ],
   "source": [
    "regres.score(test_x,test_y)\n"
   ]
  },
  {
   "cell_type": "markdown",
   "id": "0b777416",
   "metadata": {},
   "source": [
    "<h1>AdaBoostRegressor</h2>"
   ]
  },
  {
   "cell_type": "code",
   "execution_count": 72,
   "id": "7061cef4",
   "metadata": {},
   "outputs": [
    {
     "name": "stdout",
     "output_type": "stream",
     "text": [
      "2.2202051054291845\n"
     ]
    }
   ],
   "source": [
    "model=AdaBoostRegressor(n_estimators=100).fit(train_x,train_y)\n",
    "model.score(test_x,test_y)\n",
    "y_pred=model.predict(test_x)\n",
    "rmse=mean_squared_error(test_y,y_pred,squared=False)\n",
    "print(rmse)"
   ]
  },
  {
   "cell_type": "code",
   "execution_count": null,
   "id": "687675b6",
   "metadata": {},
   "outputs": [],
   "source": []
  }
 ],
 "metadata": {
  "kernelspec": {
   "display_name": "Python 3 (ipykernel)",
   "language": "python",
   "name": "python3"
  },
  "language_info": {
   "codemirror_mode": {
    "name": "ipython",
    "version": 3
   },
   "file_extension": ".py",
   "mimetype": "text/x-python",
   "name": "python",
   "nbconvert_exporter": "python",
   "pygments_lexer": "ipython3",
   "version": "3.9.7"
  }
 },
 "nbformat": 4,
 "nbformat_minor": 5
}
